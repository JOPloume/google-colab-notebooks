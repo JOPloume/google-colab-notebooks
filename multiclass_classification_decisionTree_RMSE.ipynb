{
  "nbformat": 4,
  "nbformat_minor": 0,
  "metadata": {
    "colab": {
      "name": "multiclass-classification-decisionTree-RMSE.ipynb",
      "provenance": [],
      "authorship_tag": "ABX9TyPH0abz5thPn1NsYSfKvd6e",
      "include_colab_link": true
    },
    "kernelspec": {
      "name": "python3",
      "display_name": "Python 3"
    }
  },
  "cells": [
    {
      "cell_type": "markdown",
      "metadata": {
        "id": "view-in-github",
        "colab_type": "text"
      },
      "source": [
        "<a href=\"https://colab.research.google.com/github/JOPloume/google-colab-notebooks/blob/main/multiclass_classification_decisionTree_RMSE.ipynb\" target=\"_parent\"><img src=\"https://colab.research.google.com/assets/colab-badge.svg\" alt=\"Open In Colab\"/></a>"
      ]
    },
    {
      "cell_type": "code",
      "metadata": {
        "id": "jI57KmWX8nUP"
      },
      "source": [
        "from sklearn import datasets \n",
        "from sklearn.metrics import confusion_matrix \n",
        "from sklearn.model_selection import train_test_split "
      ],
      "execution_count": 1,
      "outputs": []
    },
    {
      "cell_type": "code",
      "metadata": {
        "colab": {
          "base_uri": "https://localhost:8080/"
        },
        "id": "K9nDjonU83O6",
        "outputId": "b4a9617f-2bff-4d9c-df49-6b47046b9cc1"
      },
      "source": [
        "import pandas as pd\n",
        "\n",
        "# loading the iris dataset \n",
        "iris = datasets.load_iris() \n",
        "\n",
        "# X -> features, y -> label \n",
        "X = iris.data \n",
        "y = iris.target \n",
        "\n",
        "print(type(X))\n",
        "print(type(y))"
      ],
      "execution_count": 10,
      "outputs": [
        {
          "output_type": "stream",
          "text": [
            "<class 'numpy.ndarray'>\n",
            "<class 'numpy.ndarray'>\n"
          ],
          "name": "stdout"
        }
      ]
    },
    {
      "cell_type": "code",
      "metadata": {
        "id": "euv2WFmh96Ix"
      },
      "source": [
        "# dividing X, y into train and test data \n",
        "X_train, X_test, y_train, y_test = train_test_split(X, y, random_state = 0)"
      ],
      "execution_count": 11,
      "outputs": []
    },
    {
      "cell_type": "code",
      "metadata": {
        "id": "joCezr4o-Qve"
      },
      "source": [
        "# training a DescisionTreeClassifier \n",
        "from sklearn.tree import DecisionTreeClassifier \n",
        "\n",
        "dtree_model = DecisionTreeClassifier(max_depth = 2).fit(X_train, y_train) \n",
        "dtree_predictions = dtree_model.predict(X_test) "
      ],
      "execution_count": 12,
      "outputs": []
    },
    {
      "cell_type": "code",
      "metadata": {
        "colab": {
          "base_uri": "https://localhost:8080/"
        },
        "id": "eW9LTSna-1V_",
        "outputId": "35f3b949-9c3a-47b5-8f9a-21d6cc9080e6"
      },
      "source": [
        "y_test\n"
      ],
      "execution_count": 16,
      "outputs": [
        {
          "output_type": "execute_result",
          "data": {
            "text/plain": [
              "array([2, 1, 0, 2, 0, 2, 0, 1, 1, 1, 2, 1, 1, 1, 1, 0, 1, 1, 0, 0, 2, 1,\n",
              "       0, 0, 2, 0, 0, 1, 1, 0, 2, 1, 0, 2, 2, 1, 0, 1])"
            ]
          },
          "metadata": {
            "tags": []
          },
          "execution_count": 16
        }
      ]
    },
    {
      "cell_type": "code",
      "metadata": {
        "colab": {
          "base_uri": "https://localhost:8080/"
        },
        "id": "Hq2y9Kwu_q9Q",
        "outputId": "5173f302-8ec9-4a75-dae7-e6fa22dfffcb"
      },
      "source": [
        "dtree_predictions"
      ],
      "execution_count": 17,
      "outputs": [
        {
          "output_type": "execute_result",
          "data": {
            "text/plain": [
              "array([2, 1, 0, 2, 0, 2, 0, 1, 1, 1, 2, 1, 1, 1, 1, 0, 1, 1, 0, 0, 1, 1,\n",
              "       0, 0, 1, 0, 0, 1, 1, 0, 2, 1, 0, 1, 2, 1, 0, 2])"
            ]
          },
          "metadata": {
            "tags": []
          },
          "execution_count": 17
        }
      ]
    },
    {
      "cell_type": "code",
      "metadata": {
        "colab": {
          "base_uri": "https://localhost:8080/"
        },
        "id": "nIJtDe62_wYf",
        "outputId": "31f91c25-42b3-4945-8159-639385492adb"
      },
      "source": [
        "from sklearn.metrics import mean_squared_error\n",
        "from math import sqrt\n",
        "\n",
        "#calculate RMSE\n",
        "sqrt(mean_squared_error(y_test, dtree_predictions)) "
      ],
      "execution_count": 19,
      "outputs": [
        {
          "output_type": "execute_result",
          "data": {
            "text/plain": [
              "0.3244428422615251"
            ]
          },
          "metadata": {
            "tags": []
          },
          "execution_count": 19
        }
      ]
    }
  ]
}