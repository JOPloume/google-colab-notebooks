{
  "nbformat": 4,
  "nbformat_minor": 0,
  "metadata": {
    "colab": {
      "name": "data-preprocessing-tests.ipynb",
      "provenance": [],
      "mount_file_id": "1gQGGP0iVnPRB7_makeNMsl9YHg9I3yuq",
      "authorship_tag": "ABX9TyO5woxc73yXEHQ1qND4+XfI",
      "include_colab_link": true
    },
    "kernelspec": {
      "name": "python3",
      "display_name": "Python 3"
    }
  },
  "cells": [
    {
      "cell_type": "markdown",
      "metadata": {
        "id": "view-in-github",
        "colab_type": "text"
      },
      "source": [
        "<a href=\"https://colab.research.google.com/github/JOPloume/google-colab-notebooks/blob/main/data_preprocessing_tests.ipynb\" target=\"_parent\"><img src=\"https://colab.research.google.com/assets/colab-badge.svg\" alt=\"Open In Colab\"/></a>"
      ]
    },
    {
      "cell_type": "markdown",
      "metadata": {
        "id": "cxh5_hxi0h48"
      },
      "source": [
        "Here some tests to preprocess datasets."
      ]
    },
    {
      "cell_type": "code",
      "metadata": {
        "colab": {
          "base_uri": "https://localhost:8080/"
        },
        "id": "4t4j5nhr1KTM",
        "outputId": "e979c6d5-1aab-45e6-bef8-63ed516fdb9d"
      },
      "source": [
        "from google.colab import drive\n",
        "drive.mount('/content/drive')"
      ],
      "execution_count": 40,
      "outputs": [
        {
          "output_type": "stream",
          "text": [
            "Mounted at /content/drive\n"
          ],
          "name": "stdout"
        }
      ]
    },
    {
      "cell_type": "code",
      "metadata": {
        "id": "cscaVsd315_6",
        "colab": {
          "base_uri": "https://localhost:8080/",
          "height": 224
        },
        "outputId": "f0fb8e3b-9584-470b-eef3-28b622efecfb"
      },
      "source": [
        "import pandas as pd\n",
        "\n",
        "df = pd.read_csv('/content/drive/MyDrive/colab_notebooks/autos_predict.csv', sep=\",\")\n",
        "df.head()"
      ],
      "execution_count": 48,
      "outputs": [
        {
          "output_type": "execute_result",
          "data": {
            "text/html": [
              "<div>\n",
              "<style scoped>\n",
              "    .dataframe tbody tr th:only-of-type {\n",
              "        vertical-align: middle;\n",
              "    }\n",
              "\n",
              "    .dataframe tbody tr th {\n",
              "        vertical-align: top;\n",
              "    }\n",
              "\n",
              "    .dataframe thead th {\n",
              "        text-align: right;\n",
              "    }\n",
              "</style>\n",
              "<table border=\"1\" class=\"dataframe\">\n",
              "  <thead>\n",
              "    <tr style=\"text-align: right;\">\n",
              "      <th></th>\n",
              "      <th>Row.names</th>\n",
              "      <th>fit</th>\n",
              "      <th>se_fit</th>\n",
              "      <th>fit_fuel</th>\n",
              "      <th>fit_drive</th>\n",
              "      <th>fit_s_weight_</th>\n",
              "      <th>fit_s_hp.</th>\n",
              "      <th>se.fit_fuel</th>\n",
              "      <th>se.fit_drive</th>\n",
              "      <th>se.fit_s_weight_</th>\n",
              "      <th>se.fit_s_hp.</th>\n",
              "    </tr>\n",
              "  </thead>\n",
              "  <tbody>\n",
              "    <tr>\n",
              "      <th>0</th>\n",
              "      <td>1</td>\n",
              "      <td>21.004549</td>\n",
              "      <td>0.649519</td>\n",
              "      <td>-5.508351</td>\n",
              "      <td>0.349134</td>\n",
              "      <td>-0.902276</td>\n",
              "      <td>-1.694105</td>\n",
              "      <td>0.869684</td>\n",
              "      <td>1.169621</td>\n",
              "      <td>0.488886</td>\n",
              "      <td>0.430747</td>\n",
              "    </tr>\n",
              "    <tr>\n",
              "      <th>1</th>\n",
              "      <td>2</td>\n",
              "      <td>21.004549</td>\n",
              "      <td>0.649519</td>\n",
              "      <td>-5.508351</td>\n",
              "      <td>0.349134</td>\n",
              "      <td>-0.902276</td>\n",
              "      <td>-1.694105</td>\n",
              "      <td>0.869684</td>\n",
              "      <td>1.169621</td>\n",
              "      <td>0.488886</td>\n",
              "      <td>0.430747</td>\n",
              "    </tr>\n",
              "    <tr>\n",
              "      <th>2</th>\n",
              "      <td>3</td>\n",
              "      <td>17.547334</td>\n",
              "      <td>0.709550</td>\n",
              "      <td>-5.508351</td>\n",
              "      <td>0.349134</td>\n",
              "      <td>-0.884486</td>\n",
              "      <td>-5.169110</td>\n",
              "      <td>0.869684</td>\n",
              "      <td>1.169621</td>\n",
              "      <td>0.607747</td>\n",
              "      <td>0.669556</td>\n",
              "    </tr>\n",
              "    <tr>\n",
              "      <th>3</th>\n",
              "      <td>4</td>\n",
              "      <td>23.823625</td>\n",
              "      <td>0.549217</td>\n",
              "      <td>-5.508351</td>\n",
              "      <td>2.264275</td>\n",
              "      <td>-0.282829</td>\n",
              "      <td>-1.409616</td>\n",
              "      <td>0.869684</td>\n",
              "      <td>1.132888</td>\n",
              "      <td>0.396038</td>\n",
              "      <td>0.413609</td>\n",
              "    </tr>\n",
              "    <tr>\n",
              "      <th>4</th>\n",
              "      <td>5</td>\n",
              "      <td>20.597137</td>\n",
              "      <td>1.201011</td>\n",
              "      <td>-5.508351</td>\n",
              "      <td>0.000000</td>\n",
              "      <td>-0.886322</td>\n",
              "      <td>-1.768336</td>\n",
              "      <td>0.869684</td>\n",
              "      <td>0.000000</td>\n",
              "      <td>0.607941</td>\n",
              "      <td>0.484633</td>\n",
              "    </tr>\n",
              "  </tbody>\n",
              "</table>\n",
              "</div>"
            ],
            "text/plain": [
              "   Row.names        fit    se_fit  ...  se.fit_drive  se.fit_s_weight_  se.fit_s_hp.\n",
              "0          1  21.004549  0.649519  ...      1.169621          0.488886      0.430747\n",
              "1          2  21.004549  0.649519  ...      1.169621          0.488886      0.430747\n",
              "2          3  17.547334  0.709550  ...      1.169621          0.607747      0.669556\n",
              "3          4  23.823625  0.549217  ...      1.132888          0.396038      0.413609\n",
              "4          5  20.597137  1.201011  ...      0.000000          0.607941      0.484633\n",
              "\n",
              "[5 rows x 11 columns]"
            ]
          },
          "metadata": {
            "tags": []
          },
          "execution_count": 48
        }
      ]
    }
  ]
}